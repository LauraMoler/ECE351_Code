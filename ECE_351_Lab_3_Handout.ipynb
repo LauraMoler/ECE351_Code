{
 "cells": [
  {
   "cell_type": "markdown",
   "id": "6f223c6e-0005-4182-8a7f-51bf326a6bef",
   "metadata": {},
   "source": [
    "<h1 style=\"text-align: center;\">Discrete Convolution</h1>\n",
    "<p style=\"text-align: center;\">Lab 3</p>\n",
    "<p style=\"text-align: center;\">Spring 2024</p>"
   ]
  },
  {
   "cell_type": "markdown",
   "id": "7f1bde40-35c0-4570-9e60-1719717e9db0",
   "metadata": {},
   "source": [
    "### 1. Purpose \n",
    "Become familiar with convolution and its properties using Python."
   ]
  },
  {
   "cell_type": "markdown",
   "id": "c5ed2ff3-ab40-4ccd-8b0b-4fbcde88e0e8",
   "metadata": {},
   "source": [
    "### 2. Deliverables Overview \n",
    "##### Part 1\n",
    "[ ] Code for **Task 1**.  \n",
    "[ ] Plots for **Task 2**.  \n",
    "  \n",
    "##### Part 2\n",
    "[ ] Code for **Task 1**.  \n",
    "[ ] Plots for **Task 2**, **Task 3**, and **Task 4**.  \n",
    "[ ] Code and plots for **Task 5**."
   ]
  },
  {
   "cell_type": "markdown",
   "id": "0640c69b-5799-46c4-925e-18d30d67484d",
   "metadata": {},
   "source": [
    "### 3. Part 1\n",
    "##### 3.1 Purpose\n",
    "Use the step and ramp functions developed in **Lab 2** to write functions to use in the rest of this lab.\n",
    "##### 3.2 Tasks\n",
    "1. Create the following signals with user-defined functions.  \n",
    "$$f_1(t) = u(t - 2) - u(t - 9)$$  \n",
    "$$f_2(t) = e^{-t}u(t)$$  \n",
    "$$f_3(t) = r(t - 2)[u(t - 2) - u(t - 3)] + r(4 - t)[u(t - 3) - u(t - 4)]$$"
   ]
  },
  {
   "cell_type": "code",
   "execution_count": 1,
   "id": "8d2d5a5b-c50d-4625-8883-85a9e0d3fa38",
   "metadata": {
    "tags": []
   },
   "outputs": [],
   "source": [
    "# Include all necessary imports here"
   ]
  },
  {
   "cell_type": "code",
   "execution_count": 2,
   "id": "f8daaeec-2abb-4b65-b28d-443c06c1d1a5",
   "metadata": {
    "tags": []
   },
   "outputs": [],
   "source": [
    "# Insert code for functions f1, f2, and f3 here. Remember to include descriptions of each funtion including inputs and outputs"
   ]
  },
  {
   "cell_type": "markdown",
   "id": "d9a5e728-83c1-4196-9d8d-ee4e03e84032",
   "metadata": {},
   "source": [
    "2. Plot the three functions in a single figure, seperate subplots, from $0 \\le t \\le 20$ s with time steps small enough to achieve appropriate resolution."
   ]
  },
  {
   "cell_type": "code",
   "execution_count": 3,
   "id": "8191e282-729d-46ee-89d7-629652d5fff6",
   "metadata": {
    "tags": []
   },
   "outputs": [],
   "source": [
    "# Insert code to call each function and plot them all in one figure, three subplots, here"
   ]
  },
  {
   "cell_type": "markdown",
   "id": "1ba0047a-e866-4056-8cc0-31d0eadee635",
   "metadata": {},
   "source": [
    "### 4. Part 2\n",
    "##### 4.1 Purpose\n",
    "Create code to perform the convolution of two functions. Verify this code with Python's built-in convolution tools.\n",
    "##### 4.2 Tasks\n",
    "1. Write your own code to perform convolution. Describe the functionality of your code thoroughly in the function description and using comments where appropriate. *Note: Recall that the duration of a convolution is the sum of the duration of each function convolved. Adjust your plot window sizes and time vectors appropriately. Hint: You will not have to use the numpy integrate function, think back to how you first learned integrals."
   ]
  },
  {
   "cell_type": "code",
   "execution_count": 4,
   "id": "c48bc566-09ad-4373-a946-f46e2e77c49d",
   "metadata": {
    "tags": []
   },
   "outputs": [],
   "source": [
    "# Insert code for your convolution function here"
   ]
  },
  {
   "cell_type": "markdown",
   "id": "730cde26-59e3-4db2-a296-910642d67486",
   "metadata": {},
   "source": [
    "2. Plot the convolution of $f_1$ and $f_2$."
   ]
  },
  {
   "cell_type": "code",
   "execution_count": 5,
   "id": "8d1ff43f-e9a3-4558-81ab-9b066c28740f",
   "metadata": {
    "tags": []
   },
   "outputs": [],
   "source": [
    "# Insert code to plot the appropriate convolution here"
   ]
  },
  {
   "cell_type": "markdown",
   "id": "965a6d19-286b-48d5-9e15-aad8bd1a057d",
   "metadata": {},
   "source": [
    "3. Plot the convolution of $f_2$ and $f_3$."
   ]
  },
  {
   "cell_type": "code",
   "execution_count": 6,
   "id": "ec0c8f2d-4b6c-4af9-b0ac-888326821130",
   "metadata": {
    "tags": []
   },
   "outputs": [],
   "source": [
    "# Insert code to plot the appropriate convolution here"
   ]
  },
  {
   "cell_type": "markdown",
   "id": "bdd3ab1f-91f8-4a80-8543-5c03098ab0dc",
   "metadata": {},
   "source": [
    "4. Plot the convolution of $f_1$ and $f_3$."
   ]
  },
  {
   "cell_type": "code",
   "execution_count": 7,
   "id": "0efea983-bf9d-45f4-978a-a92aa280d379",
   "metadata": {
    "tags": []
   },
   "outputs": [],
   "source": [
    "# Insert code to plot the appropriate convolution here"
   ]
  },
  {
   "cell_type": "markdown",
   "id": "b04a7cc7-4fd3-4ae1-ba94-0a480c8840da",
   "metadata": {},
   "source": [
    "5. Verify your convolution function is working correctly using the **scipy.signal.convolve()** function by plotting the convolutions from **Task 2**, **Task 3**, and **Task 4** in one figure with three subplots."
   ]
  },
  {
   "cell_type": "code",
   "execution_count": 8,
   "id": "b8697d12-9d22-44bc-b445-81401809dd6f",
   "metadata": {
    "tags": []
   },
   "outputs": [],
   "source": [
    "# Insert code using sig.convolve() to plot the convolutions from task 2, 3, and 4 in one figure with three subplots here."
   ]
  },
  {
   "cell_type": "markdown",
   "id": "5c007903-6f11-44ec-a63d-d8a0c8a48df4",
   "metadata": {},
   "source": [
    "### 5. Questions\n",
    "1. Did you work alone or with classmates on this lab? If you collaborated to get to the solution, what did that process look like?    \n",
    ">Replace this text with your answer, but leave the \">\" symbol.    \n",
    "2. What was the most difficult part of this lab for you, and what did your problem-solving process look like? \n",
    ">Replace this text with your answer, but leave the \">\" symbol.\n",
    "3. Did you approach writing the code with analytical or graphical convolution in mind? Why did you chose this approach?\n",
    ">Replace this text with your answer, but leave the \">\" symbol.\n",
    "4. Leave any feedback on the clarity of lab tasks, expectations, and deliverables.  \n",
    ">Replace this text with your answer, but leave the \">\" symbol."
   ]
  }
 ],
 "metadata": {
  "kernelspec": {
   "display_name": "Python 3 (ipykernel)",
   "language": "python",
   "name": "python3"
  },
  "language_info": {
   "codemirror_mode": {
    "name": "ipython",
    "version": 3
   },
   "file_extension": ".py",
   "mimetype": "text/x-python",
   "name": "python",
   "nbconvert_exporter": "python",
   "pygments_lexer": "ipython3",
   "version": "3.11.4"
  }
 },
 "nbformat": 4,
 "nbformat_minor": 5
}
