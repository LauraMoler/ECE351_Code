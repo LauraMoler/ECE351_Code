{
 "cells": [
  {
   "cell_type": "markdown",
   "id": "1da2b307-85e0-4b03-bc03-e21e8aeb6cd5",
   "metadata": {},
   "source": [
    "<h1 style=\"text-align: center;\">Block Diagrams and System Stability</h1>\n",
    "<p style=\"text-align: center;\">Lab 7</p>\n",
    "<p style=\"text-align: center;\">Spring 2024</p>"
   ]
  },
  {
   "cell_type": "markdown",
   "id": "6a4c3e8c-943d-4e0b-b078-c1daedde0670",
   "metadata": {},
   "source": [
    "### 1. Purpose \n",
    "Become familiar with Laplace-domain block diagrams and use the factored form of the transfer function to judge system stability. \n",
    "\n",
    "### 2. Deliverables Overview \n",
    "##### Part 1  \n",
    "[ ] Equations for the transfer functions in **Task 1**.  \n",
    "[ ] Printed output using **scipy.signal.tf2zpk()** for **Task 2**.  \n",
    "[ ] Equation of the open-loop transfer function for **Task 3**\n",
    "[ ] Plot showing the step response of the open-loop transfer function for **Task 4**.\n",
    "  \n",
    "##### Part 2\n",
    "[ ] Equation of the closed-loop transfer function for **Task 1**\n",
    "[ ] Printed output and numerical equations using **scipy.signal.tf2zpk()** for **Task 2**.  \n",
    "[ ] Plot showing the step response of the open-loop transfer function for **Task 3**. \n",
    "\n",
    "![Block diagram](BlockDiagram1.png)\n",
    "\n",
    "$$ G(s) = \\frac{s + 9}{(s^2 - 6s - 16)(s + 4)} $$  \n",
    "$$ A(s) = \\frac{s + 4}{S^2 + 4s +3} $$  \n",
    "$$ B(s) = s^2 + 26s + 168 $$\n",
    "\n",
    "### 3. Part 1\n",
    "##### 3.1 Purpose\n",
    "Analyze a block diagram and learn how to use Python functions to perform the same analysis.  \n",
    "##### 3.2 Tasks   \n",
    "1. Type $G(s)$, $A(s)$, and $B(s)$ in factored form, isolating the poles and zeros. Identify the poles and zeros of each function."
   ]
  },
  {
   "cell_type": "code",
   "execution_count": 16,
   "id": "8fd9f091",
   "metadata": {},
   "outputs": [
    {
     "name": "stdout",
     "output_type": "stream",
     "text": [
      "G: Residue:  [-0.35        0.20833333  0.14166667] \n",
      "Poles:  [-2. -4.  8.] \n",
      "Coefficient:  []\n",
      "A: Residue:  [ 1.5 -0.5] \n",
      "Poles:  [-1. -3.] \n",
      "Coefficient:  []\n",
      "B: Residue:  [] \n",
      "Poles:  [] \n",
      "Coefficient:  [  1.  26. 168.]\n"
     ]
    }
   ],
   "source": [
    "import scipy.signal as sig\n",
    "\n",
    "numG = [1,9]\n",
    "denG = sig.convolve([1, -6, -16],[1, 4])\n",
    "numA = [1,4]\n",
    "denA = [1,4,3]\n",
    "numB = [1,26,168]\n",
    "denB = [1]\n",
    "#solve for poles\n",
    "res, pol, k = sig.residue(numG,denG)\n",
    "print(\"G: Residue: \", res, \"\\nPoles: \", pol, \"\\nCoefficient: \", k)\n",
    "res, pol, k = sig.residue(numA,denA)\n",
    "print(\"A: Residue: \", res, \"\\nPoles: \", pol, \"\\nCoefficient: \", k)\n",
    "res, pol, k = sig.residue(numB,denB)\n",
    "print(\"B: Residue: \", res, \"\\nPoles: \", pol, \"\\nCoefficient: \", k)\n",
    "\n"
   ]
  },
  {
   "cell_type": "markdown",
   "id": "8920ea03-4960-484d-a2eb-7bcfaecc1356",
   "metadata": {},
   "source": [
    "Factored form of $G(s)$:  \n",
    ">$\\frac{s+9}{(s-8)(s+2)(s+4)}$\n",
    "\n",
    "Factored form of $A(s)$:  \n",
    ">$\\frac{s+4}{(s+1)(s+3)}$  \n",
    "\n",
    "Factored form of $B(s)$:  \n",
    ">(s+12)(s+14)\n",
    "\n",
    "Poles of $G(s)$:  \n",
    ">-2, -4, 8\n",
    "\n",
    "Poles of $A(s)$:  \n",
    ">  -1, -3\n",
    "\n",
    "Poles of $B(s)$:  \n",
    ">  N/A\n",
    "\n",
    "Zeros of $G(s)$:  \n",
    ">  s = -9\n",
    "\n",
    "Zeros of $A(s)$:  \n",
    ">  s = -4\n",
    "\n",
    "Zeros of $B(s)$:  \n",
    "> s = -14 or s = -12"
   ]
  },
  {
   "cell_type": "markdown",
   "id": "2de80da6-6920-4d79-8c50-f32eb515b932",
   "metadata": {},
   "source": [
    "###### 3.2.1 Example Code  \n",
    "The following example code uses **scipy.signal.convolve()** to expand a factored transfer function, described by $H(s) = \\frac{(8s + 1)(2s +3)}{(9s^2 + 2s)(s + 4)}$."
   ]
  },
  {
   "cell_type": "code",
   "execution_count": 7,
   "id": "b1d07604-290e-4249-a120-b1e408eeaeba",
   "metadata": {
    "tags": []
   },
   "outputs": [
    {
     "name": "stdout",
     "output_type": "stream",
     "text": [
      "Expanded Numerator: [16 26  3]\n",
      "Expanded Denominator: [ 9 38  8  0]\n"
     ]
    }
   ],
   "source": [
    "import scipy.signal as sig\n",
    "\n",
    "num = sig.convolve([8, 1], [2, 3])\n",
    "den = sig.convolve([9, 2, 0], [1, 4])\n",
    "\n",
    "print(f\"Expanded Numerator: {num}\\nExpanded Denominator: {den}\")"
   ]
  },
  {
   "cell_type": "markdown",
   "id": "3f0d6886-4d55-4a5c-8d13-a4a1eae26e64",
   "metadata": {},
   "source": [
    "Making the expanded transfer function $H(s) = \\frac{16s^2 + 26s + 3}{9s^3 + 38s^2 + 8s}$.  "
   ]
  },
  {
   "cell_type": "markdown",
   "id": "1fb5cf7e-ff52-4ffa-922c-db729f323448",
   "metadata": {},
   "source": [
    "2. Use the **scipy.signal.tf2zpk()** function to check your results from **Task 1** and print the output. *Note: since $B(s)$ has a denominator of 1, you may use **numpy.roots()** instead*."
   ]
  },
  {
   "cell_type": "code",
   "execution_count": 8,
   "id": "ed62157f-1de3-4ce8-96df-61d52f67918a",
   "metadata": {
    "tags": []
   },
   "outputs": [],
   "source": [
    "# Insert all necessary imports here\n",
    "import scipy.signal as sig\n",
    "import numpy as np\n",
    "import matplotlib.pyplot as plt"
   ]
  },
  {
   "cell_type": "code",
   "execution_count": 15,
   "id": "dd3ce0b8-3931-4467-8d68-0a09cb717fd1",
   "metadata": {
    "tags": []
   },
   "outputs": [
    {
     "name": "stdout",
     "output_type": "stream",
     "text": [
      "G:   Zeros:  [-9.] \n",
      "     Poles:  [ 8. -4. -2.]\n",
      "A:   Zeros:  [-4.] \n",
      "     Poles:  [-3. -1.]\n",
      "B:   Roots:  [-14. -12.]\n"
     ]
    }
   ],
   "source": [
    "# Insert code for Part 1 Task 2 here\n",
    "numG = [1,9]\n",
    "denG = sig.convolve([1, -6, -16],[1, 4])\n",
    "numA = [1,4]\n",
    "denA = [1,4,3]\n",
    "numB = [1,26,168]\n",
    "denB = [1]\n",
    "\n",
    "z, p, k = sig.tf2zpk(numG, denG)\n",
    "print(\"G:   Zeros: \", z, \"\\n     Poles: \", p)\n",
    "\n",
    "z, p, k = sig.tf2zpk(numA, denA)\n",
    "print(\"A:   Zeros: \", z, \"\\n     Poles: \", p)\n",
    "\n",
    "root = np.roots(numB)\n",
    "print(\"B:   Roots: \", root)"
   ]
  },
  {
   "cell_type": "markdown",
   "id": "7b165a4b-bf1f-4c5e-96a2-52f3bd431e3b",
   "metadata": {},
   "source": [
    "3. Type and properly format the open-loop transfer function where $x(t)$ is the input and $y(t)$ is the output. Keep your answer in factored form."
   ]
  },
  {
   "cell_type": "markdown",
   "id": "fbcc4cae-5649-4442-8281-fbe1d392d4f9",
   "metadata": {},
   "source": [
    "Insert the open-loop transfer function here:  \n",
    "$$ H(s) = \\frac{y(t)}{x(t)} = A(s)*G(s) = \\frac{numA*numG}{denA*denG}$$\n",
    "$$ H(s) = \\frac{(s+4)(s+9)}{(s-8)(s+2)(s+4)(s+1)(s+3)}"
   ]
  },
  {
   "cell_type": "markdown",
   "id": "3d02cd0b-90fb-4117-96de-6d95d9047907",
   "metadata": {},
   "source": [
    "4. Plot the step response of the open-loop transfer function. Use **scipy.signal.convolve()** to expand the numerator and denominator of the open-loop transfer function. "
   ]
  },
  {
   "cell_type": "code",
   "execution_count": 20,
   "id": "f6c802a0-3c60-4357-b430-87271061e23c",
   "metadata": {
    "tags": []
   },
   "outputs": [
    {
     "name": "stdout",
     "output_type": "stream",
     "text": [
      "Expanded Numerator: [ 1 13 36] \n",
      "Expanded Denominator: [   1    2  -45 -230 -376 -192]\n"
     ]
    },
    {
     "data": {
      "image/png": "[encoded data removed]",
      "text/plain": [
       "<Figure size 640x480 with 1 Axes>"
      ]
     },
     "metadata": {},
     "output_type": "display_data"
    }
   ],
   "source": [
    "# Insert code plotting the step response of the open-loop transfer function here\n",
    "numG = [1,9]\n",
    "denG = sig.convolve([1, -6, -16],[1, 4])\n",
    "numA = [1,4]\n",
    "denA = [1,4,3]\n",
    "\n",
    "totNUM = sig.convolve(numA, numG)\n",
    "totDEN = sig.convolve(denA, denG)\n",
    "print(f\"Expanded Numerator: {totNUM} \\nExpanded Denominator: {totDEN}\")\n",
    "\n",
    "tout, yout = sig.step((totNUM, totDEN))\n",
    "\n",
    "#plot\n",
    "plt.figure()\n",
    "plt.plot(tout, yout)\n",
    "plt.grid()\n",
    "plt.ylabel(\"H(s)\")\n",
    "plt.xlabel(\"t [s]\")\n",
    "plt.suptitle(\"Step Response of Open-Loop Transfer Function\")\n",
    "plt.show()"
   ]
  },
  {
   "cell_type": "markdown",
   "id": "2073d86f-d1af-4198-9aeb-728468adb7ab",
   "metadata": {},
   "source": [
    "### 4. Part 2\n",
    "##### 4.1 Purpose\n",
    "Become more familiar with using Python for analyzing block diagrams and stability of closed-loop systems.\n",
    "##### 4.2 Tasks   \n",
    "1. Type the closed-loop transfer function for the given block diagram symbolically in terms of each blocks numerator and denominator (i.e., numG, denG, ...)."
   ]
  },
  {
   "cell_type": "markdown",
   "id": "72ed4640-a06e-4aa3-ae64-56f60df0cc26",
   "metadata": {},
   "source": [
    "Insert the closed-loop transfer function here:  \n",
    "$$ H(s) = A(s)*\\frac{G(s)}{1+G(s)B(s)} $$\n",
    "$$ H(s) = \\frac{numA * \\frac{numG}{denG}}{denA*(1+\\frac{numG}{denG}*\\frac{numB}{1})}$$\n",
    "simplified: $H(s) = \\frac{numA * numG}{denA * (denG + numB * numG)}$"
   ]
  },
  {
   "cell_type": "markdown",
   "id": "3fecb635-adfc-45ca-874a-3cda476ab6df",
   "metadata": {},
   "source": [
    "2. Using **scipy.signal.convolve()** and **scipy.signal.tf2zpk()** to perform all the arithmetic, find numerical values for the total numerator and denominator, find poles and zeros, then type the resulting numeric transfer function in both expanded and factored form."
   ]
  },
  {
   "cell_type": "code",
   "execution_count": 33,
   "id": "a37d42f5-3b2f-40e4-8430-c247fa7afad6",
   "metadata": {
    "tags": []
   },
   "outputs": [
    {
     "name": "stdout",
     "output_type": "stream",
     "text": [
      "Expanded Numerator: [ 1 13 36] \n",
      "Expanded Denominator: [   2   41  500 2995 6878 4344]\n",
      "\n",
      "Zeros: [-9. -4.] \n",
      "Poles: [-5.16237064+9.51798197j -5.16237064-9.51798197j -6.17525872+0.j\n",
      " -3.        +0.j         -1.        +0.j        ]\n"
     ]
    }
   ],
   "source": [
    "# Insert code for Part 2 Task 2 here\n",
    "numG = [1,9]\n",
    "denG = sig.convolve([1, -6, -16],[1, 4])\n",
    "numA = [1,4]\n",
    "denA = [1,4,3]\n",
    "numB = [1,26,168]\n",
    "denB = [1]\n",
    "\n",
    "#total numerators and denominators\n",
    "totNUM = sig.convolve(numA, numG)\n",
    "totDEN = sig.convolve(denA, denG + sig.convolve(numB, numG))\n",
    "\n",
    "#print expanded\n",
    "print(f\"Expanded Numerator: {totNUM} \\nExpanded Denominator: {totDEN}\")\n",
    "\n",
    "#print poles, zeros\n",
    "z, p, k = sig.tf2zpk(totNUM, totDEN)\n",
    "print(f\"\\nZeros: {z} \\nPoles: {p}\")"
   ]
  },
  {
   "cell_type": "markdown",
   "id": "a7fbad9e-0cf5-4668-a494-0c5f16d3bece",
   "metadata": {},
   "source": [
    "Insert the expanded numeric closed-loop transfer function here:  \n",
    "$$ H(s) = \\frac{s^2 + 13s + 36}{2s^5 + 41s^4 + 500s^3 + 2995s^2 + 6878s + 4344}$$"
   ]
  },
  {
   "cell_type": "markdown",
   "id": "2c9e4d7e-517d-4592-955c-8c432654a443",
   "metadata": {},
   "source": [
    "Insert the factored numeric closed-loop transfer function here:  \n",
    "$$ H(s) = \\frac{(s+9)(s+4)}{(s+(5.162+9.518j))(s+(5.162-9.518j))(s+6.175)(s+3)(s+1)}$$"
   ]
  },
  {
   "cell_type": "markdown",
   "id": "eaea8c55-507b-497e-a19f-3b622d7a85ad",
   "metadata": {},
   "source": [
    "3. Plot the step response of the closed-loop transfer function using **scipy.signal.step()**."
   ]
  },
  {
   "cell_type": "code",
   "execution_count": 34,
   "id": "737cdb59-e367-4f82-884d-2daf21f2d2e3",
   "metadata": {
    "tags": []
   },
   "outputs": [
    {
     "data": {
      "image/png": "[encoded data removed]",
      "text/plain": [
       "<Figure size 640x480 with 1 Axes>"
      ]
     },
     "metadata": {},
     "output_type": "display_data"
    }
   ],
   "source": [
    "# Insert code for Part 2 Task 3 here\n",
    "numG = [1,9]\n",
    "denG = sig.convolve([1, -6, -16],[1, 4])\n",
    "numA = [1,4]\n",
    "denA = [1,4,3]\n",
    "numB = [1,26,168]\n",
    "denB = [1]\n",
    "\n",
    "#total numerators and denominators\n",
    "totNUM = sig.convolve(numA, numG)\n",
    "totDEN = sig.convolve(denA, denG + sig.convolve(numB, numG))\n",
    "\n",
    "tout, yout = sig.step((totNUM, totDEN))\n",
    "\n",
    "#plot\n",
    "plt.figure()\n",
    "plt.plot(tout, yout)\n",
    "plt.grid()\n",
    "plt.ylabel(\"H(s)\")\n",
    "plt.xlabel(\"t [s]\")\n",
    "plt.suptitle(\"Step Response of Open-Loop Transfer Function\")\n",
    "plt.show()"
   ]
  },
  {
   "cell_type": "markdown",
   "id": "44dbcc80-5641-425f-8bfb-40629f26fa61",
   "metadata": {},
   "source": [
    "### 5. Questions\n",
    "1. Considering the expression found in **Part 1, Task 3**, is the open-loop response stable? Explain why or why not.    \n",
    ">No, the open-loop response is not stable. This is because there is a right-hand side factor in the denominator. \n",
    "2. Does the plot from **Part 1, Task 4** support your answer to **Question 1**? Explain how or how it does not.  \n",
    ">Yes, the graph goes towards infinity as it approaches 8. Specifically, by the time the graph hits t = 7, the values are approaching 4e21 which indicates instability.  \n",
    "3. In **Part 1, Task 4**, why does convolving the factored terms using **scipy.signal.convolve()** result in the expanded form of the numerator and denominator? Would this work with your user-defined convolution function from **Lab 3**? Why or why not?  \n",
    ">It returns the expanded form of the numerator and denominator because it's treating the convolution as a multiplication since we're providing the values in the s-domain. This would also work for my convolution function from Lab 3 since I also treated the convolution as a multiplication problem as the values supplied were in the s-domain already.  \n",
    "4. Using the closed-loop transfer function found in **Part 2, Task 1**, is the closed-loop response stable? Explain why or why not.\n",
    ">I believe that the closed-loop transfer function is stable. Since there are only left-hand side factors and no right-hand factos in the denominator, the function is stable.\n",
    "5. Does the result from **Part 2, Task 3** support your answer to **Question 4**? Explain how or how it does not.  \n",
    ">Yes. Unlike the graph for the open-loop function, this graph is consistent and levels out at very small values. This indicates that the function is stable.  \n",
    "6. What is the difference between **scipy.signal.residue()** used in **Lab 6** and **scipy.signal.tf2zpk()** used in this lab?  \n",
    ">The two functions differ in what they return. The sig.residue() function returns the residue, poles, and coefficients of the given system. The sig.tf2zpk() function returns the zeros, poles, and system gain of the given system.\n",
    "7. Is it possible for an open-loop system to be stable? What about for a closed-loop system to be unstable? Explain how or how it is not for each.  \n",
    ">Depending on how the systems are designed, both options are possible. To make a system unstable, the denominator should have a right-hand side factor or a (s-3) for example. For systems to be stable, they need to have only left-hand side factors in the denominator which could be (s+3).  \n",
    "8. Leave any feedback on the clarity of lab tasks, expectations, and deliverables.  \n",
    ">I have no feedback :\\)"
   ]
  }
 ],
 "metadata": {
  "kernelspec": {
   "display_name": "Python 3 (ipykernel)",
   "language": "python",
   "name": "python3"
  },
  "language_info": {
   "codemirror_mode": {
    "name": "ipython",
    "version": 3
   },
   "file_extension": ".py",
   "mimetype": "text/x-python",
   "name": "python",
   "nbconvert_exporter": "python",
   "pygments_lexer": "ipython3",
   "version": "3.11.5"
  }
 },
 "nbformat": 4,
 "nbformat_minor": 5
}
