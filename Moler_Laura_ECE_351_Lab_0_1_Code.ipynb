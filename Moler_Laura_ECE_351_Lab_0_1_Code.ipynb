{
 "cells": [
  {
   "cell_type": "markdown",
   "id": "ca0d6470-a4a5-45e4-8788-af66801b24a8",
   "metadata": {},
   "source": [
    "<h1 style=\"text-align: center;\">Setting up the Environment</h1>\n",
    "<p style=\"text-align: center;\">Lab 0</p>\n",
    "<p style=\"text-align: center;\">Spring 2024</p>"
   ]
  },
  {
   "cell_type": "markdown",
   "id": "4c26e306-5a3b-4acc-869c-68fe645bb0b7",
   "metadata": {},
   "source": [
    "Type these commands in the following code block. Then press crtl + enter to run the code.\n",
    "\n",
    "import numpy  \n",
    "import matplotlib.pyplot  \n",
    "import scipy  \n",
    "import control  \n",
    "import pandas   "
   ]
  },
  {
   "cell_type": "code",
   "execution_count": 1,
   "id": "875861e2-f413-4b2e-bb2c-eb17609c6e00",
   "metadata": {
    "tags": []
   },
   "outputs": [],
   "source": [
    "# Insert your code here\n",
    "import numpy\n",
    "import matplotlib.pyplot\n",
    "import scipy\n",
    "import control\n",
    "import pandas"
   ]
  },
  {
   "cell_type": "markdown",
   "id": "670457ae-6536-4f2d-be6f-7fc2448ba01c",
   "metadata": {},
   "source": [
    "### Questions\n",
    "1. What did you do over last summer, or what are you planning to do this upcoming summer?\n",
    "    >For both of these summers, I will be interning at NSWC-Carderock Division in the DC area. This summer, I plan to explore more and possibly go to a few concerts or go SCUBA-ing.\n",
    "2. What do you personally want to get out of this lab? \n",
    "    >I would love to get a better understanding of Python as a language. Also, I want to learn more about how to turn a design into code.\n",
    "    \n",
    "Save this lab as \"LastName_FirstName_ECE_351_Lab_X_Code.ipynb\" and turn in on Canvas."
   ]
  },
  {
   "cell_type": "markdown",
   "id": "be3203c0-f021-4e69-87b0-547a6c1d72f1",
   "metadata": {},
   "source": [
    "<h1 style=\"text-align: center;\">Introduction to Python 3</h1>\n",
    "<p style=\"text-align: center;\">Lab 1</p>\n",
    "<p style=\"text-align: center;\">Spring 2024</p>"
   ]
  },
  {
   "cell_type": "markdown",
   "id": "45772867-5c09-42dc-943c-ca977abe82fa",
   "metadata": {},
   "source": [
    "You task is to create a new code block for each **Task** in the **Lab Handout 1** and complete the necessary code, followed by a **Markdown** block for a summary of each **Task**. You can label each block with the appropriate **Task** number using either comments or a **Markdown** block."
   ]
  },
  {
   "cell_type": "markdown",
   "id": "1f885714",
   "metadata": {},
   "source": [
    "### Task 1"
   ]
  },
  {
   "cell_type": "code",
   "execution_count": 9,
   "id": "56fbde26-5c25-47a9-8e34-3a49865f7db3",
   "metadata": {
    "tags": []
   },
   "outputs": [
    {
     "name": "stdout",
     "output_type": "stream",
     "text": [
      "1\n",
      "t =  1\n",
      "t =  1  seconds\n",
      "t is not =  0.3333333333333333 \n",
      "... and can be rounded using 'round()' 0.3333\n",
      "The best way to print is using f-strings such as: t = 0.33 s\n"
     ]
    }
   ],
   "source": [
    "# Insert your code here. Note: Each task will need to be in it's own code block to receive full points, and each summary will need to, likewise, be in it's own markdown block\n",
    "import numpy as np\n",
    "import scipy.signal\n",
    "import time\n",
    "t=1\n",
    "print(t)\n",
    "print(\"t = \", t)\n",
    "print('t = ',t,\" seconds\")\n",
    "print('t is not = ',t/3,'\\n... and can be rounded using \\'round()\\'',round(t/3,4))\n",
    "print(f\"The best way to print is using f-strings such as: t = {t/3:0.2f} s\")"
   ]
  },
  {
   "cell_type": "markdown",
   "id": "3f552e7b",
   "metadata": {},
   "source": [
    "### Task 2\n",
    "To square in Python, use ** instead of ^"
   ]
  },
  {
   "cell_type": "code",
   "execution_count": 10,
   "id": "76507ba3",
   "metadata": {},
   "outputs": [
    {
     "name": "stdout",
     "output_type": "stream",
     "text": [
      "9\n"
     ]
    }
   ],
   "source": [
    "print(3**2)"
   ]
  },
  {
   "cell_type": "markdown",
   "id": "69847c22",
   "metadata": {},
   "source": [
    "### Task 3\n",
    "Variables that contain multiple values are called lists in Python. For many function used in this lab, we will prefer to use numpy arrays, which operate similarly to lists. Both are demonstrated below."
   ]
  },
  {
   "cell_type": "code",
   "execution_count": 11,
   "id": "e11b1c5f",
   "metadata": {},
   "outputs": [
    {
     "name": "stdout",
     "output_type": "stream",
     "text": [
      "list1: [0, 1, 2, 3]\n",
      "list2: [[0], [1], [2], [3]]\n",
      "list3: [[0, 1], [2, 3]]\n",
      "array1: [0 1 2 3]\n",
      "array2: [[0]\n",
      " [1]\n",
      " [2]\n",
      " [3]]\n",
      "array3: [[0 1]\n",
      " [2 3]]\n"
     ]
    }
   ],
   "source": [
    "list1 = [0,1,2,3]\n",
    "print('list1:', list1)\n",
    "list2 = [[0],[1],[2],[3]]\n",
    "print('list2:', list2)\n",
    "list3 = [[0,1],[2,3]]\n",
    "print('list3:', list3)\n",
    "array1 = np.array([0,1,2,3])\n",
    "print('array1:', array1)\n",
    "array2 = np.array([[0],[1],[2],[3]])\n",
    "print('array2:',array2)\n",
    "array3 = np.array([[0,1],[2,3]])\n",
    "print('array3:', array3)\n"
   ]
  },
  {
   "cell_type": "markdown",
   "id": "79cf2605",
   "metadata": {},
   "source": [
    "### Task 4 & 5\n",
    "Comments in Python are created using '#'.\n",
    "\n",
    "If you want to create a larger array, Python and its packages (i.e. numpy) have a number of ways to do this."
   ]
  },
  {
   "cell_type": "code",
   "execution_count": 13,
   "id": "f87769fa",
   "metadata": {},
   "outputs": [
    {
     "name": "stdout",
     "output_type": "stream",
     "text": [
      "[0 1 2 3] \n",
      " [0.  0.5 1.  1.5] \n",
      " [0.  0.5 1.  1.5]\n"
     ]
    }
   ],
   "source": [
    "# number5\n",
    "import numpy as np\n",
    "print(np.arange(4),'\\n',\n",
    "    np.arange(0,2,0.5),'\\n',\n",
    "    np.linspace(0,1.5,4))"
   ]
  },
  {
   "cell_type": "markdown",
   "id": "8680dc0f",
   "metadata": {},
   "source": [
    "### Task 6\n",
    "Indexing lists and arrays is a major part of this lab. In Python, this can be done as shown below. It is important to note that indexes in Python start at 0. Also, notice numpy arrays offer more flexible indexing, making them a preferable option in many cases."
   ]
  },
  {
   "cell_type": "code",
   "execution_count": 14,
   "id": "76c2dfeb",
   "metadata": {},
   "outputs": [
    {
     "name": "stdout",
     "output_type": "stream",
     "text": [
      "list1:  1 5\n",
      "array1:  1 5\n",
      "array2:  3 10\n",
      "list2:  [1 2 3 4 5] [ 6  7  8  9 10]\n"
     ]
    }
   ],
   "source": [
    "# 6\n",
    "list1 = [1, 2, 3, 4, 5]\n",
    "array1 = np.array(list1) #def. of a np array using a list\n",
    "print('list1: ',list1[0], list1[4])\n",
    "print('array1: ', array1[0], array1[4])\n",
    "array2 = np.array([[1, 2, 3, 4, 5], [6, 7, 8, 9, 10]])\n",
    "list2 = list(array2)\n",
    "print('array2: ', array2[0,2],array2[1,4])\n",
    "print('list2: ', list2[0], list2[1])\n",
    "# It's best to use np arrays for indexing specific values in multi-dimensional arrays\n"
   ]
  },
  {
   "cell_type": "markdown",
   "id": "7587ee6f",
   "metadata": {},
   "source": [
    "### Task 7\n",
    "Sometimes it is desirable to define a matrix as an array of zeros or ones. To do this, use the numpy.zeros() and numpy.ones() functions. See the examples below."
   ]
  },
  {
   "cell_type": "code",
   "execution_count": 15,
   "id": "21805416",
   "metadata": {},
   "outputs": [
    {
     "name": "stdout",
     "output_type": "stream",
     "text": [
      "1x3:  [0. 0. 0.]\n",
      "2x2:  [[0. 0.]\n",
      " [0. 0.]]\n",
      "2x3:  [[1. 1. 1.]\n",
      " [1. 1. 1.]]\n"
     ]
    }
   ],
   "source": [
    "print('1x3: ',np.zeros(3))\n",
    "print('2x2: ',np.zeros((2,2)))\n",
    "print('2x3: ',np.ones((2,3)))"
   ]
  },
  {
   "cell_type": "markdown",
   "id": "3001a140",
   "metadata": {},
   "source": [
    "### Task 8\n",
    "The following code shows how to use matlpotlib.pyplot to plot in python. The comments in the code will explain what each funtion does. If this is still unclear look up the documentation on matplotlib.pyplot."
   ]
  },
  {
   "cell_type": "code",
   "execution_count": 16,
   "id": "ef4922ce",
   "metadata": {},
   "outputs": [
    {
     "data": {
      "image/png": "[encoded data removed]",
      "text/plain": [
       "<Figure size 1200x800 with 3 Axes>"
      ]
     },
     "metadata": {},
     "output_type": "display_data"
    }
   ],
   "source": [
    "# sample code for Lab 1\n",
    "import numpy as np\n",
    "import matplotlib.pyplot as plt\n",
    "\n",
    "# define variables\n",
    "steps = 0.1 # step size\n",
    "x = np.arange(-2,2+steps,steps) #notice the final value is \\'2+steps\\' to include \\'2\\'\n",
    "y1 = x+2\n",
    "y2 = x**2\n",
    "\n",
    "# Code for plots\n",
    "plt.figure(figsize = (12,8))\n",
    "plt.subplot(3,1,1)\n",
    "plt.plot(x,y1)\n",
    "plt.title(\"Sample Plots for Lab 1\")\n",
    "\n",
    "plt.ylabel(\"Subplot 1\")\n",
    "plt.grid(True)\n",
    "\n",
    "plt.subplot(3,1,2)\n",
    "plt.plot(x, y2)\n",
    "plt.ylabel(\"Subplot 2\")\n",
    "plt.grid(which=\"both\")\n",
    "\n",
    "plt.subplot(3,1,3)\n",
    "plt.plot(x,y1,\"--r\",label=\"y1\")\n",
    "plt.plot(x,y2,\"o\",label=\"y2\")\n",
    "plt.axis([-2.5,2.5,-0.5,4.5])\n",
    "plt.grid(True)\n",
    "plt.legend(loc=\"lower right\")\n",
    "plt.xlabel(\"x\")\n",
    "plt.ylabel(\"Subplot 3\")\n",
    "plt.show()\n"
   ]
  },
  {
   "cell_type": "markdown",
   "id": "bf02e445",
   "metadata": {},
   "source": [
    "### Task 9\n",
    "Complex numbers are defined in Python as follows, with j being the imaginary number."
   ]
  },
  {
   "cell_type": "code",
   "execution_count": 18,
   "id": "af3e2c07",
   "metadata": {},
   "outputs": [
    {
     "name": "stdout",
     "output_type": "stream",
     "text": [
      "(2+3j)\n",
      "(2+2.9999999999999996j)\n",
      "(2+2.9999999999999996j)\n",
      "3.1622776601683795j\n"
     ]
    }
   ],
   "source": [
    "cRect = 2+3j\n",
    "print(cRect)\n",
    "cPol = abs(cRect) * np.exp(1j*np.angle(cRect))\n",
    "print(cPol)\n",
    "cRect2 = np.real(cPol) + 1j*np.imag(cPol)\n",
    "print(cRect2)\n",
    "\n",
    "print(np.sqrt(3*5 - 5*5 + 0j))"
   ]
  },
  {
   "cell_type": "markdown",
   "id": "81e74ac3",
   "metadata": {},
   "source": [
    "### Task 10\n",
    "The following code listing shows a number of packages that will be used throughout this semester, for your reference, once again the as is optional and arbitrary, as mentioned before. For more detailed information on each, plenty of documentation is readily available for each. This list may not be exhaustive of the packages used throughout the semester in this course, and each package only needs to be included in labs for which it is needed."
   ]
  },
  {
   "cell_type": "code",
   "execution_count": 19,
   "id": "c0e33484",
   "metadata": {},
   "outputs": [],
   "source": [
    "import numpy as np\n",
    "import matplotlib.pyplot as plt\n",
    "import scipy as sp\n",
    "import scipy.signal as sig\n",
    "import pandas as pd\n",
    "import control\n",
    "import time\n",
    "from scipy.fftpack import fft, fftshift"
   ]
  },
  {
   "cell_type": "markdown",
   "id": "6fcc10e9",
   "metadata": {},
   "source": [
    "### Task 11\n",
    "List of useful Python commands that I should become familiar with:"
   ]
  },
  {
   "cell_type": "code",
   "execution_count": 21,
   "id": "eabab233",
   "metadata": {},
   "outputs": [
    {
     "ename": "TypeError",
     "evalue": "range expected at least 1 argument, got 0",
     "output_type": "error",
     "traceback": [
      "\u001b[1;31m---------------------------------------------------------------------------\u001b[0m",
      "\u001b[1;31mTypeError\u001b[0m                                 Traceback (most recent call last)",
      "\u001b[1;32mc:\\Laura\\ECE351-S24\\ECE351_Code\\Moler_Laura_ECE_351_Lab_0_1_Code.ipynb Cell 26\u001b[0m line \u001b[0;36m2\n\u001b[0;32m      <a href='vscode-notebook-cell:/c%3A/Laura/ECE351-S24/ECE351_Code/Moler_Laura_ECE_351_Lab_0_1_Code.ipynb#X36sZmlsZQ%3D%3D?line=0'>1</a>\u001b[0m \u001b[39m#create a range of numbers (nce for 'for' loops)\u001b[39;00m\n\u001b[1;32m----> <a href='vscode-notebook-cell:/c%3A/Laura/ECE351-S24/ECE351_Code/Moler_Laura_ECE_351_Lab_0_1_Code.ipynb#X36sZmlsZQ%3D%3D?line=1'>2</a>\u001b[0m \u001b[39mrange\u001b[39m()\n\u001b[0;32m      <a href='vscode-notebook-cell:/c%3A/Laura/ECE351-S24/ECE351_Code/Moler_Laura_ECE_351_Lab_0_1_Code.ipynb#X36sZmlsZQ%3D%3D?line=2'>3</a>\u001b[0m \u001b[39m#create a np array that is a range of number with a defined step size\u001b[39;00m\n\u001b[0;32m      <a href='vscode-notebook-cell:/c%3A/Laura/ECE351-S24/ECE351_Code/Moler_Laura_ECE_351_Lab_0_1_Code.ipynb#X36sZmlsZQ%3D%3D?line=3'>4</a>\u001b[0m np\u001b[39m.\u001b[39marange()\n",
      "\u001b[1;31mTypeError\u001b[0m: range expected at least 1 argument, got 0"
     ]
    },
    {
     "ename": "",
     "evalue": "",
     "output_type": "error",
     "traceback": [
      "\u001b[1;31mThe Kernel crashed while executing code in the the current cell or a previous cell. Please review the code in the cell(s) to identify a possible cause of the failure. Click <a href='https://aka.ms/vscodeJupyterKernelCrash'>here</a> for more info. View Jupyter <a href='command:jupyter.viewOutput'>log</a> for further details."
     ]
    }
   ],
   "source": [
    "#create a range of numbers (nice for 'for' loops)\n",
    "range()\n",
    "#create a np array that is a range of number with a defined step size\n",
    "np.arange()\n",
    "#add values to the end of np array\n",
    "np.append()\n",
    "#add values to beginning of np array\n",
    "np.insert()\n",
    "#combine 2 np arrays\n",
    "np.concatenate()\n",
    "#create a np array that containes a specified (linear) range of values\n",
    "#with a specified number of elements\n",
    "np.linspace()\n",
    "#create a np array that contains a specified (logarithmic, base specified)\n",
    "#range of values with a specified number of elements\n",
    "np.logspace()\n",
    "#reshape a np array\n",
    "np.reshape()\n",
    "#transpose a np array\n",
    "np.transpose()\n",
    "#return the number of elements in an array (horizontal)\n",
    "len()\n",
    "#return the number of elements in an array (vertical)\n",
    "## .size\n",
    "#return the dimensions of an array\n",
    "## .shape\n",
    "#reshape the dimensions of an array (similar to np.reshape() above)\n",
    "## .reshape\n",
    "#transpose an array (similar to np.transpose() above)\n",
    "## .T"
   ]
  },
  {
   "cell_type": "markdown",
   "id": "19380ecd-58e7-4acc-8447-2514470df032",
   "metadata": {},
   "source": [
    "### Questions\n",
    "1. Which course are you most excited for in your degree? Which course have you enjoyed the most so far?\n",
    "    >I am most excited for this course, Signals and Systems II, and the technical electives I get to choose next year. I have enjoyed ECE 241 (kinda sorta ECE 240, but don't tell Dr. J lol), ECE 101, ECE 210, and ECE 212.\n",
    "    \n",
    "Save this lab as \"LastName_FirstName_ECE_351_Lab_X_Code.ipynb\" and turn in on Canvas."
   ]
  }
 ],
 "metadata": {
  "kernelspec": {
   "display_name": "Python 3 (ipykernel)",
   "language": "python",
   "name": "python3"
  },
  "language_info": {
   "codemirror_mode": {
    "name": "ipython",
    "version": 3
   },
   "file_extension": ".py",
   "mimetype": "text/x-python",
   "name": "python",
   "nbconvert_exporter": "python",
   "pygments_lexer": "ipython3",
   "version": "3.11.5"
  }
 },
 "nbformat": 4,
 "nbformat_minor": 5
}
